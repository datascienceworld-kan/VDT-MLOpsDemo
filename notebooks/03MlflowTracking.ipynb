{
 "cells": [
  {
   "cell_type": "code",
   "execution_count": 1,
   "id": "3ebdab56-c977-4770-b633-7bd87ded1f19",
   "metadata": {},
   "outputs": [],
   "source": [
    "import numpy as np\n",
    "from sklearn.ensemble import RandomForestClassifier\n",
    "from sklearn.model_selection import train_test_split"
   ]
  },
  {
   "cell_type": "markdown",
   "id": "2c65d72c",
   "metadata": {},
   "source": [
    "# Load data from feature store"
   ]
  },
  {
   "cell_type": "code",
   "execution_count": 12,
   "id": "195da257-6609-4c7c-980c-fbde2c00266f",
   "metadata": {},
   "outputs": [],
   "source": [
    "x_path=\"../feature_store/X.npy\"\n",
    "y_path=\"../feature_store/y.npy\""
   ]
  },
  {
   "cell_type": "code",
   "execution_count": 13,
   "id": "a58666f6",
   "metadata": {},
   "outputs": [],
   "source": [
    "# %pip install s3fs"
   ]
  },
  {
   "cell_type": "code",
   "execution_count": 14,
   "id": "43520f7c-baab-45a6-9d65-0068b5f8332d",
   "metadata": {},
   "outputs": [],
   "source": [
    "from s3fs.core import S3FileSystem\n",
    "import numpy as np\n",
    "def get_s3(s3_path):\n",
    "    # If you have a s3 storage on AWS, let's run this command\n",
    "    # s3 = S3FileSystem()\n",
    "    # return np.load(s3.open(s3_path), allow_pickle=True)\n",
    "    # In case run on simulated feature_store on the local folder\n",
    "    return np.load(s3_path, allow_pickle=True)"
   ]
  },
  {
   "cell_type": "code",
   "execution_count": 16,
   "id": "fda42716-bc54-415b-a60f-2b456fa00052",
   "metadata": {},
   "outputs": [
    {
     "name": "stdout",
     "output_type": "stream",
     "text": [
      "(42100, 17) (42100,)\n"
     ]
    }
   ],
   "source": [
    "X = get_s3(x_path)\n",
    "y = get_s3(y_path)\n",
    "print(X.shape, y.shape)"
   ]
  },
  {
   "cell_type": "code",
   "execution_count": 17,
   "id": "6ef15b04-14aa-455f-be5a-c7d8ade377e0",
   "metadata": {},
   "outputs": [],
   "source": [
    "X_train,X_test,y_train,y_test = train_test_split(X,y,train_size=0.80)"
   ]
  },
  {
   "cell_type": "markdown",
   "id": "88426c2d",
   "metadata": {},
   "source": [
    "# Using mlflow to tracking model training experiments"
   ]
  },
  {
   "cell_type": "code",
   "execution_count": 21,
   "id": "3f7d1b38",
   "metadata": {},
   "outputs": [],
   "source": [
    "# %pip install mlflow"
   ]
  },
  {
   "cell_type": "markdown",
   "id": "0ef7f1c1",
   "metadata": {},
   "source": [
    "You need to start mlflow server on local first on endpoint `http://127.0.0.1:5000`. Running this command on the terminal to start mlflow ui.\n",
    "\n",
    "```\n",
    "$ mlflow ui\n",
    "```"
   ]
  },
  {
   "cell_type": "markdown",
   "id": "afeba239",
   "metadata": {},
   "source": [
    "Next, tracking the model output, metrics, and parameters of a training experiment"
   ]
  },
  {
   "cell_type": "code",
   "execution_count": 25,
   "id": "fb680ece-c0de-4d58-b871-69815e757e34",
   "metadata": {},
   "outputs": [],
   "source": [
    "import mlflow"
   ]
  },
  {
   "cell_type": "code",
   "execution_count": 35,
   "id": "94bc88b4-0696-4a60-b8f7-21947a3a10f8",
   "metadata": {},
   "outputs": [],
   "source": [
    "mlflow.set_tracking_uri(\"http://127.0.0.1:5000\")"
   ]
  },
  {
   "cell_type": "code",
   "execution_count": 36,
   "id": "5962f610-de28-484d-b611-12eb29d81f5c",
   "metadata": {},
   "outputs": [
    {
     "name": "stderr",
     "output_type": "stream",
     "text": [
      "2024/05/02 11:34:26 INFO mlflow.tracking.fluent: Experiment with name 'hotel_occupancy' does not exist. Creating a new experiment.\n"
     ]
    },
    {
     "data": {
      "text/plain": [
       "<Experiment: artifact_location='mlflow-artifacts:/369295605872091803', creation_time=1714624466629, experiment_id='369295605872091803', last_update_time=1714624466629, lifecycle_stage='active', name='hotel_occupancy', tags={}>"
      ]
     },
     "execution_count": 36,
     "metadata": {},
     "output_type": "execute_result"
    }
   ],
   "source": [
    "mlflow.set_experiment(\"hotel_occupancy\")"
   ]
  },
  {
   "cell_type": "code",
   "execution_count": 37,
   "id": "fdbd5f5d-931f-4415-9b41-d42c3129aa79",
   "metadata": {},
   "outputs": [],
   "source": [
    "params = {\"n_estimators\":120,\"max_depth\":20,\"n_jobs\":-1}\n",
    "clf = RandomForestClassifier(**params)"
   ]
  },
  {
   "cell_type": "code",
   "execution_count": 38,
   "id": "ce24345c-cab5-45b1-be3c-ea2103db95cc",
   "metadata": {},
   "outputs": [],
   "source": [
    "from sklearn.metrics import roc_auc_score, confusion_matrix"
   ]
  },
  {
   "cell_type": "markdown",
   "id": "b94c8883",
   "metadata": {},
   "source": [
    "mlflow can support to track `parameters, metrics, and artifacts` within a context manager initialized by `mlflow.start_run()`"
   ]
  },
  {
   "cell_type": "code",
   "execution_count": 39,
   "id": "758a0976-179b-4dfa-bf13-7af963098573",
   "metadata": {},
   "outputs": [],
   "source": [
    "with mlflow.start_run():\n",
    "    clf = clf.fit(X_train,y_train)\n",
    "    preds = clf.predict(X_test)\n",
    "    pred_proba = clf.predict_proba(X_test)[:,1]\n",
    "    cm = confusion_matrix(y_test,preds)\n",
    "    auc=roc_auc_score(y_test,pred_proba)\n",
    "    t_n, f_p, f_n, t_p = cm.ravel()\n",
    "    # Tracking the metrics of model evaluation on test\n",
    "    mlflow.log_metrics({\"tn\":t_n,'fp':f_p,'fn':f_n,'tp':t_p,\"auc\":auc})\n",
    "    # Tracking the forecasting result of a model artifact named rf_model with input X_test[0:,]\n",
    "    mlflow.sklearn.log_model(clf,'rf_model',input_example=X_test[0:,])\n",
    "    # Tracking traning parameters of the model\n",
    "    mlflow.log_params(params)"
   ]
  }
 ],
 "metadata": {
  "kernelspec": {
   "display_name": "Python 3 (ipykernel)",
   "language": "python",
   "name": "python3"
  },
  "language_info": {
   "codemirror_mode": {
    "name": "ipython",
    "version": 3
   },
   "file_extension": ".py",
   "mimetype": "text/x-python",
   "name": "python",
   "nbconvert_exporter": "python",
   "pygments_lexer": "ipython3",
   "version": "3.10.10"
  }
 },
 "nbformat": 4,
 "nbformat_minor": 5
}
