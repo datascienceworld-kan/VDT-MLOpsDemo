{
 "cells": [
  {
   "cell_type": "markdown",
   "id": "23427d8d-5c27-4e3d-b453-abf5d0f01b89",
   "metadata": {},
   "source": [
    "------------------\n",
    "**Author**: Gunnvant\n",
    "\n",
    "**Description**: Demonstrates a non optimal ml model training notebook\n",
    "\n",
    "-----------------"
   ]
  },
  {
   "cell_type": "code",
   "execution_count": 1,
   "id": "29b9ff0c-9975-4385-bc93-40fa4a06ea60",
   "metadata": {},
   "outputs": [],
   "source": [
    "import pandas as pd\n",
    "train = pd.read_csv(\"../raw_data/train.csv\")"
   ]
  },
  {
   "cell_type": "code",
   "execution_count": 2,
   "id": "ca2df625-832b-4230-937c-8ae885931968",
   "metadata": {},
   "outputs": [],
   "source": [
    "test = pd.read_csv(\"../raw_data/test.csv\")"
   ]
  },
  {
   "cell_type": "code",
   "execution_count": 3,
   "id": "75ab67e4-c251-4e84-9a25-cf741fa0be3c",
   "metadata": {
    "tags": []
   },
   "outputs": [],
   "source": [
    "X = train.drop(['id','booking_status'],axis=1).values\n",
    "y = train['booking_status'].values"
   ]
  },
  {
   "cell_type": "code",
   "execution_count": 4,
   "id": "afc819d9",
   "metadata": {},
   "outputs": [],
   "source": [
    "# !pip install scikit-learn"
   ]
  },
  {
   "cell_type": "code",
   "execution_count": 5,
   "id": "d08da8cf-baed-41f3-9c9c-170bf40fa8a1",
   "metadata": {
    "tags": []
   },
   "outputs": [],
   "source": [
    "from sklearn.model_selection import train_test_split\n",
    "from sklearn.ensemble import RandomForestClassifier"
   ]
  },
  {
   "cell_type": "code",
   "execution_count": 6,
   "id": "9ca81c48-21c7-4ea9-98f0-88df232a7b23",
   "metadata": {
    "tags": []
   },
   "outputs": [],
   "source": [
    "X_train,X_test,y_train,y_test = train_test_split(X,y,train_size=0.80)"
   ]
  },
  {
   "cell_type": "code",
   "execution_count": 7,
   "id": "9265ce5c-2bbe-4106-bf22-e423d8b880f3",
   "metadata": {
    "tags": []
   },
   "outputs": [],
   "source": [
    "params = {'n_estimators':200,'max_depth':20,'n_jobs':-1}\n",
    "clf = RandomForestClassifier(**params)\n",
    "clf = clf.fit(X_train,y_train)"
   ]
  },
  {
   "cell_type": "code",
   "execution_count": 8,
   "id": "0c787805-14c8-41d2-bb6b-f42bec875f7b",
   "metadata": {
    "tags": []
   },
   "outputs": [],
   "source": [
    "params = {'n_estimators':200,'max_depth':20,'n_jobs':-1}\n",
    "clf = RandomForestClassifier(**params)\n",
    "clf = clf.fit(X_train,y_train)"
   ]
  },
  {
   "cell_type": "code",
   "execution_count": 9,
   "id": "6c73c69a-8486-4bcf-a5d7-a42535a0f3fc",
   "metadata": {
    "tags": []
   },
   "outputs": [],
   "source": [
    "from sklearn.metrics import confusion_matrix,roc_auc_score\n",
    "preds = clf.predict(X_test)\n",
    "pred_proba = clf.predict_proba(X_test)[:,1]\n",
    "cm = confusion_matrix(y_test,preds)\n",
    "auc=roc_auc_score(y_test,pred_proba)\n",
    "t_n, f_p, f_n, t_p = cm.ravel()"
   ]
  },
  {
   "cell_type": "code",
   "execution_count": 10,
   "id": "1fae79a8-1a72-4eb8-84a2-c2c6b0e344c9",
   "metadata": {
    "tags": []
   },
   "outputs": [
    {
     "name": "stdout",
     "output_type": "stream",
     "text": [
      "AUC is: 0.8841560928672605\n"
     ]
    }
   ],
   "source": [
    "print(f\"AUC is: {auc}\")"
   ]
  },
  {
   "cell_type": "code",
   "execution_count": 11,
   "id": "38db00a8-0ca7-49e6-973e-ea758c84be41",
   "metadata": {
    "tags": []
   },
   "outputs": [
    {
     "name": "stdout",
     "output_type": "stream",
     "text": [
      "True postives are 2467\n",
      "False positives are 707\n",
      "True negatives are 4407\n",
      "False negatives are 839\n"
     ]
    }
   ],
   "source": [
    "print(f\"True postives are {t_p}\")\n",
    "print(f\"False positives are {f_p}\")\n",
    "print(f\"True negatives are {t_n}\")\n",
    "print(f\"False negatives are {f_n}\")"
   ]
  },
  {
   "cell_type": "code",
   "execution_count": null,
   "id": "96bc0931-7844-4de2-b4cc-54edcf298d53",
   "metadata": {},
   "outputs": [],
   "source": []
  }
 ],
 "metadata": {
  "kernelspec": {
   "display_name": "Python 3 (ipykernel)",
   "language": "python",
   "name": "python3"
  },
  "language_info": {
   "codemirror_mode": {
    "name": "ipython",
    "version": 3
   },
   "file_extension": ".py",
   "mimetype": "text/x-python",
   "name": "python",
   "nbconvert_exporter": "python",
   "pygments_lexer": "ipython3",
   "version": "3.10.10"
  }
 },
 "nbformat": 4,
 "nbformat_minor": 5
}
